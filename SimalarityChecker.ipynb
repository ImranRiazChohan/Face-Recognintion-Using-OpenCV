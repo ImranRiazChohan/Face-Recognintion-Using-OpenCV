{
 "cells": [
  {
   "cell_type": "code",
   "execution_count": 25,
   "id": "178bda1d",
   "metadata": {},
   "outputs": [],
   "source": [
    "import cv2\n",
    "import numpy as np\n",
    "import face_recognition\n",
    "import os"
   ]
  },
  {
   "cell_type": "code",
   "execution_count": 26,
   "id": "7988151d",
   "metadata": {},
   "outputs": [],
   "source": [
    "def findEncodings():\n",
    "    images=['./images/imran khan.jpg','./images/imran.png']  #image ke path dal dena\n",
    "    encodeList =[]\n",
    "    \n",
    "    for img in images:\n",
    "        img=cv2.imread(img)\n",
    "        img = cv2.cvtColor(img, cv2.COLOR_BGR2RGB)\n",
    "        encode = face_recognition.face_encodings(img)[0]\n",
    "        encodeList.append(encode)\n",
    "    return encodeList"
   ]
  },
  {
   "cell_type": "code",
   "execution_count": 61,
   "id": "2fa4b7cd",
   "metadata": {},
   "outputs": [
    {
     "name": "stdout",
     "output_type": "stream",
     "text": [
      "Encoding Complete\n",
      "Distances : [0.7826125  0.62669417]\n",
      "Index Number : 1\n",
      "Predicted Class : IMRAN RIAZ CHOHAN\n"
     ]
    }
   ],
   "source": [
    "test_image=cv2.imread(\"./images/imran_1.jpg\")\n",
    "\n",
    "classNames = ['imran khan','imran riaz chohan']\n",
    "encodeListKnown = findEncodings()\n",
    "print('Encoding Complete')\n",
    "\n",
    "facesCurFrame = face_recognition.face_locations(test_image)\n",
    "encodesCurFrame = face_recognition.face_encodings(test_image, facesCurFrame)\n",
    "for encodeFace, faceLoc in zip(encodesCurFrame, facesCurFrame):\n",
    "    matches = face_recognition.compare_faces(encodeListKnown, encodeFace)\n",
    "    faceDis = face_recognition.face_distance(encodeListKnown, encodeFace)\n",
    "#     jiska distanc kam hoga similar hoga wo predict hoga\n",
    "    \n",
    "    print(\"Distances : {}\".format(faceDis))\n",
    "    matchIndex = np.argmin(faceDis)\n",
    "    print(\"Index Number : {}\".format(matchIndex))\n",
    "    \n",
    "    if True:\n",
    "        name = classNames[matchIndex].upper()\n",
    "        print(\"Predicted Class : {}\".format(name))\n",
    "    else:\n",
    "        print(\"Unknown\")"
   ]
  },
  {
   "cell_type": "code",
   "execution_count": null,
   "id": "cf44d091",
   "metadata": {},
   "outputs": [],
   "source": []
  }
 ],
 "metadata": {
  "kernelspec": {
   "display_name": "Python 3 (ipykernel)",
   "language": "python",
   "name": "python3"
  },
  "language_info": {
   "codemirror_mode": {
    "name": "ipython",
    "version": 3
   },
   "file_extension": ".py",
   "mimetype": "text/x-python",
   "name": "python",
   "nbconvert_exporter": "python",
   "pygments_lexer": "ipython3",
   "version": "3.10.6"
  }
 },
 "nbformat": 4,
 "nbformat_minor": 5
}
